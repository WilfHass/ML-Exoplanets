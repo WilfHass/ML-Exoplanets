{
 "cells": [
  {
   "cell_type": "code",
   "execution_count": 38,
   "metadata": {},
   "outputs": [],
   "source": [
    "import json\n",
    "\n",
    "data = {}\n",
    "data['data'] = []\n",
    "data['data'].append({\n",
    "    'train_batchsize': '32',\n",
    "    'test_batchsize':'3148',\n",
    "    'epoch':'500'\n",
    "})\n",
    "\n",
    "data['optim'] =[]\n",
    "data['optim'].append({\n",
    "    'learning_rate':'1e-3',\n",
    "    'training_iterations':'1000',\n",
    "    'momentum':'0.99'\n",
    "})\n",
    "\n",
    "\n",
    "with open('linear_params_local.json', 'w') as outfile:\n",
    "    json.dump(data, outfile)"
   ]
  },
  {
   "cell_type": "code",
   "execution_count": 35,
   "metadata": {},
   "outputs": [],
   "source": [
    "import json\n",
    "\n",
    "data = {}\n",
    "data['data'] = []\n",
    "data['data'].append({\n",
    "    'train_batchsize': '64',\n",
    "    'test_batchsize':'3148',\n",
    "    'epoch':'500'\n",
    "})\n",
    "\n",
    "data['optim'] =[]\n",
    "data['optim'].append({\n",
    "    'learning_rate':'1e-3',\n",
    "    'training_iterations':'1000',\n",
    "    'momentum':'0.9'\n",
    "})\n",
    "\n",
    "\n",
    "with open('linear_params_global.json', 'w') as outfile:\n",
    "    json.dump(data, outfile)"
   ]
  },
  {
   "cell_type": "code",
   "execution_count": 37,
   "metadata": {},
   "outputs": [],
   "source": [
    "import json\n",
    "\n",
    "data = {}\n",
    "data['data'] = []\n",
    "data['data'].append({\n",
    "    'train_batchsize': '32',\n",
    "    'test_batchsize':'3148',\n",
    "    'epoch':'500'\n",
    "})\n",
    "\n",
    "data['optim'] =[]\n",
    "data['optim'].append({\n",
    "    'learning_rate':'1e-3',\n",
    "    'training_iterations':'1000',\n",
    "    'momentum':'0.9'\n",
    "})\n",
    "\n",
    "\n",
    "with open('linear_params_both.json', 'w') as outfile:\n",
    "    json.dump(data, outfile)"
   ]
  },
  {
   "cell_type": "code",
   "execution_count": 40,
   "metadata": {},
   "outputs": [],
   "source": [
    "import json\n",
    "\n",
    "data = {}\n",
    "data['data'] = []\n",
    "data['data'].append({\n",
    "    'train_batchsize': '32',\n",
    "    'test_batchsize':'3148',\n",
    "    'epoch':'100'\n",
    "})\n",
    "\n",
    "data['optim'] =[]\n",
    "data['optim'].append({\n",
    "    'learning_rate':'1e-3',\n",
    "    'training_iterations':'1000',\n",
    "    'momentum':'0.99'\n",
    "})\n",
    "\n",
    "\n",
    "with open('fc_params_local.json', 'w') as outfile:\n",
    "    json.dump(data, outfile)"
   ]
  },
  {
   "cell_type": "code",
   "execution_count": 41,
   "metadata": {},
   "outputs": [],
   "source": [
    "import json\n",
    "\n",
    "data = {}\n",
    "data['data'] = []\n",
    "data['data'].append({\n",
    "    'train_batchsize': '64',\n",
    "    'test_batchsize':'3148',\n",
    "    'epoch':'50'\n",
    "})\n",
    "\n",
    "data['optim'] =[]\n",
    "data['optim'].append({\n",
    "    'learning_rate':'1e-3',\n",
    "    'training_iterations':'1000',\n",
    "    'momentum':'0.99'\n",
    "})\n",
    "\n",
    "\n",
    "with open('fc_params_both.json', 'w') as outfile:\n",
    "    json.dump(data, outfile)"
   ]
  },
  {
   "cell_type": "code",
   "execution_count": null,
   "metadata": {},
   "outputs": [],
   "source": []
  }
 ],
 "metadata": {
  "kernelspec": {
   "display_name": "Python 3",
   "language": "python",
   "name": "python3"
  },
  "language_info": {
   "codemirror_mode": {
    "name": "ipython",
    "version": 3
   },
   "file_extension": ".py",
   "mimetype": "text/x-python",
   "name": "python",
   "nbconvert_exporter": "python",
   "pygments_lexer": "ipython3",
   "version": "3.8.5"
  }
 },
 "nbformat": 4,
 "nbformat_minor": 4
}
